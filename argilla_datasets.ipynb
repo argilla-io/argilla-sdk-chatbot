{
 "cells": [
  {
   "cell_type": "markdown",
   "id": "0d6e1aaf-5de4-4ec8-a73f-402fa3c0a4a3",
   "metadata": {},
   "source": [
    "# Explore the generated datasets in Argilla"
   ]
  },
  {
   "cell_type": "markdown",
   "id": "dadeac41-f713-4c8f-a0d6-e2d750678469",
   "metadata": {},
   "source": [
    "## Create an argilla instance and uploading the datasets\n",
    "\n",
    "The following cells will push the previously created datasets to explore them in argilla. All the steps can be followed in the\n",
    "[argilla-quickstart](https://argilla-io.github.io/argilla/dev/getting_started/quickstart/) section of the documentation."
   ]
  },
  {
   "cell_type": "code",
   "execution_count": 21,
   "id": "fd1e714f-6a75-4422-8b03-f1c2b80e5832",
   "metadata": {},
   "outputs": [],
   "source": [
    "## Install argilla if you haven't yet\n",
    "#!pip install argilla --pre"
   ]
  },
  {
   "cell_type": "markdown",
   "id": "761f2d92-f9a4-4b96-9ec9-125defcc1b2c",
   "metadata": {},
   "source": [
    "Instantiate the client pointing to the created space."
   ]
  },
  {
   "cell_type": "code",
   "execution_count": 1,
   "id": "f64e2f50-3ea8-4915-be38-b4b8b034d348",
   "metadata": {},
   "outputs": [
    {
     "name": "stderr",
     "output_type": "stream",
     "text": [
      "/Users/agus/github_repos/argilla-io/argilla-sdk-chatbot/.venv/lib/python3.11/site-packages/tqdm/auto.py:21: TqdmWarning: IProgress not found. Please update jupyter and ipywidgets. See https://ipywidgets.readthedocs.io/en/stable/user_install.html\n",
      "  from .autonotebook import tqdm as notebook_tqdm\n"
     ]
    }
   ],
   "source": [
    "import argilla as rg\n",
    "\n",
    "client = rg.Argilla(\n",
    "    api_url=\"https://plaguss-argilla-sdk-chatbot.hf.space\",\n",
    "    api_key=\"YOUR_API_KEY\"\n",
    ")"
   ]
  },
  {
   "cell_type": "markdown",
   "id": "683a1de3-957b-449c-8427-2e3c58999c46",
   "metadata": {},
   "source": [
    "Download the first dataset from the Hugging Face Hub and select the relevant columns we want to explore"
   ]
  },
  {
   "cell_type": "code",
   "execution_count": 2,
   "id": "8addec00-16e6-46ab-b056-d394532a09c6",
   "metadata": {},
   "outputs": [],
   "source": [
    "from datasets import load_dataset\n",
    "\n",
    "data = load_dataset(\"plaguss/argilla_sdk_docs_raw_unstructured\", split=\"train\")"
   ]
  },
  {
   "cell_type": "code",
   "execution_count": 3,
   "id": "f7fde48b-8dd9-494c-b6d5-3037d2ec4647",
   "metadata": {},
   "outputs": [],
   "source": [
    "# Will select just the columns we are going to explore, and transform to list of dicts\n",
    "data = data.select_columns([\"filename\", \"chunks\"]).to_list()"
   ]
  },
  {
   "cell_type": "markdown",
   "id": "f0e2123c-b9d2-4453-88c7-2e6d3e090e2b",
   "metadata": {},
   "source": [
    "## Dataset with raw chunks of documentation\n",
    "\n",
    "Let's upload the raw chunks to argilla to look at the raw data we generated using the `docs_dataset.py` script.\n",
    "\n",
    "- Dataset in Hugging Face Hub: [plaguss/argilla_sdk_docs_raw_unstructured](https://huggingface.co/datasets/plaguss/argilla_sdk_docs_raw_unstructured)"
   ]
  },
  {
   "cell_type": "markdown",
   "id": "004d1eca-edbd-4104-b1e5-dca3f888f277",
   "metadata": {},
   "source": [
    "Create the settings of the dataset and push it to Argilla to track it:"
   ]
  },
  {
   "cell_type": "code",
   "execution_count": 4,
   "id": "12c9597c-6c01-4a1e-91bf-f618b3c22cfe",
   "metadata": {},
   "outputs": [],
   "source": [
    "settings = rg.Settings(\n",
    "    guidelines=\"Review the chunks of docs.\",\n",
    "    fields=[\n",
    "        rg.TextField(\n",
    "            name=\"filename\",\n",
    "            title=\"Filename where this chunk was extracted from\",\n",
    "            use_markdown=False,\n",
    "        ),\n",
    "        rg.TextField(\n",
    "            name=\"chunk\",\n",
    "            title=\"Chunk from the documentation\",\n",
    "            use_markdown=False,\n",
    "        ),\n",
    "    ],\n",
    "    questions=[\n",
    "        rg.LabelQuestion(\n",
    "            name=\"good_chunk\",\n",
    "            title=\"Does this chunk contain relevant information?\",\n",
    "            labels=[\"yes\", \"no\"],\n",
    "        )\n",
    "    ],\n",
    ")"
   ]
  },
  {
   "cell_type": "code",
   "execution_count": 5,
   "id": "e51b2eb5-94f3-42f8-941d-7a4164094ebe",
   "metadata": {},
   "outputs": [
    {
     "name": "stderr",
     "output_type": "stream",
     "text": [
      "/Users/agus/github_repos/argilla-io/argilla-sdk-chatbot/.venv/lib/python3.11/site-packages/argilla/datasets/_resource.py:194: UserWarning: Workspace not provided. Using default workspace: admin id: 91bc79aa-28e4-4ce7-a20f-af44afb0c7a1\n",
      "  warnings.warn(f\"Workspace not provided. Using default workspace: {ws.name} id: {ws.id}\")\n"
     ]
    },
    {
     "data": {
      "text/plain": [
       "Dataset(id=UUID('f869d3d1-8695-4819-ba56-c62bd0054c3d') inserted_at=datetime.datetime(2024, 6, 28, 7, 22, 12, 633904) updated_at=datetime.datetime(2024, 6, 28, 7, 22, 15, 275982) name='argilla_sdk_docs_raw_unstructured' status='ready' guidelines='Review the chunks of docs.' allow_extra_metadata=False workspace_id=UUID('91bc79aa-28e4-4ce7-a20f-af44afb0c7a1') last_activity_at=datetime.datetime(2024, 6, 28, 7, 22, 15, 275982) url=None)"
      ]
     },
     "execution_count": 5,
     "metadata": {},
     "output_type": "execute_result"
    }
   ],
   "source": [
    "dataset = rg.Dataset(\n",
    "    name=\"argilla_sdk_docs_raw_unstructured\",\n",
    "    settings=settings,\n",
    "    client=client,\n",
    ")\n",
    "dataset.create()"
   ]
  },
  {
   "cell_type": "markdown",
   "id": "e60e3ec0-13c8-48d7-91a5-6a125ad6b5f6",
   "metadata": {},
   "source": [
    "Add records to it:"
   ]
  },
  {
   "cell_type": "code",
   "execution_count": 6,
   "id": "ec1b5aa9-11a9-4743-9653-86a6fa4b5d4d",
   "metadata": {},
   "outputs": [
    {
     "data": {
      "text/html": [
       "<pre style=\"white-space:pre;overflow-x:auto;line-height:normal;font-family:Menlo,'DejaVu Sans Mono',consolas,'Courier New',monospace\">DatasetRecords: The provided batch size <span style=\"color: #008080; text-decoration-color: #008080; font-weight: bold\">256</span> was normalized. Using value <span style=\"color: #008080; text-decoration-color: #008080; font-weight: bold\">251</span>.\n",
       "</pre>\n"
      ],
      "text/plain": [
       "DatasetRecords: The provided batch size \u001b[1;36m256\u001b[0m was normalized. Using value \u001b[1;36m251\u001b[0m.\n"
      ]
     },
     "metadata": {},
     "output_type": "display_data"
    },
    {
     "name": "stderr",
     "output_type": "stream",
     "text": [
      "Adding and updating records: 100%|████████████████████████████████████████████████████████████████████████████████████████████████████████████████████████████████████████████████████████████████████████████████████████████████| 1/1 [00:01<00:00,  1.82s/batch]\n"
     ]
    },
    {
     "data": {
      "text/plain": [
       "DatasetRecords(Dataset(id=UUID('f869d3d1-8695-4819-ba56-c62bd0054c3d') inserted_at=datetime.datetime(2024, 6, 28, 7, 22, 12, 633904) updated_at=datetime.datetime(2024, 6, 28, 7, 22, 15, 275982) name='argilla_sdk_docs_raw_unstructured' status='ready' guidelines='Review the chunks of docs.' allow_extra_metadata=False workspace_id=UUID('91bc79aa-28e4-4ce7-a20f-af44afb0c7a1') last_activity_at=datetime.datetime(2024, 6, 28, 7, 22, 15, 275982) url=None))"
      ]
     },
     "execution_count": 6,
     "metadata": {},
     "output_type": "execute_result"
    }
   ],
   "source": [
    "dataset.records.log(records=data, mapping={\"filename\": \"filename\", \"chunks\": \"chunk\"})"
   ]
  },
  {
   "cell_type": "markdown",
   "id": "5df632a3-f936-480d-90e0-a23dfaeaef1b",
   "metadata": {},
   "source": [
    "## Dataset with generated queries\n",
    "\n",
    "The following dataset contains the synthetic queries generated with distilabel. We will repeat the previous steps with the dataset used to fine tune our embedding model.\n",
    "\n",
    "- Dataset in Hugging Face Hub: [plaguss/argilla_sdk_docs_queries](https://huggingface.co/datasets/plaguss/argilla_sdk_docs_queries)"
   ]
  },
  {
   "cell_type": "code",
   "execution_count": 7,
   "id": "7ae4c6b1-fb82-4273-a2dd-a6e19f48bc6d",
   "metadata": {},
   "outputs": [],
   "source": [
    "settings = rg.Settings(\n",
    "    guidelines=\"Review the chunks of docs.\",\n",
    "    fields=[\n",
    "        rg.TextField(\n",
    "            name=\"anchor\",\n",
    "            title=\"Anchor (Chunk from the documentation).\",\n",
    "            use_markdown=False,\n",
    "        ),\n",
    "        rg.TextField(\n",
    "            name=\"positive\",\n",
    "            title=\"Positive sentence that queries the anchor.\",\n",
    "            use_markdown=False,\n",
    "        ),\n",
    "        rg.TextField(\n",
    "            name=\"negative\",\n",
    "            title=\"Negative sentence that may use similar words but has content unrelated to the anchor.\",\n",
    "            use_markdown=False,\n",
    "        ),\n",
    "    ],\n",
    "    questions=[\n",
    "        rg.LabelQuestion(\n",
    "            name=\"is_positive_relevant\",\n",
    "            title=\"Is the positive query relevant?\",\n",
    "            labels=[\"yes\", \"no\"],\n",
    "        ),\n",
    "        rg.LabelQuestion(\n",
    "            name=\"is_negative_irrelevant\",\n",
    "            title=\"Is the negative query irrelevant?\",\n",
    "            labels=[\"yes\", \"no\"],\n",
    "        )\n",
    "    ],\n",
    ")"
   ]
  },
  {
   "cell_type": "code",
   "execution_count": 8,
   "id": "bb1e490f-035b-4f54-b02c-e2a1e064eee0",
   "metadata": {},
   "outputs": [
    {
     "data": {
      "text/plain": [
       "Dataset(id=UUID('46c5e638-fb2b-4765-8a1e-901b09d8a0b5') inserted_at=datetime.datetime(2024, 6, 28, 7, 23, 7, 262351) updated_at=datetime.datetime(2024, 6, 28, 7, 23, 10, 950167) name='argilla_sdk_docs_queries' status='ready' guidelines='Review the chunks of docs.' allow_extra_metadata=False workspace_id=UUID('91bc79aa-28e4-4ce7-a20f-af44afb0c7a1') last_activity_at=datetime.datetime(2024, 6, 28, 7, 23, 10, 950167) url=None)"
      ]
     },
     "execution_count": 8,
     "metadata": {},
     "output_type": "execute_result"
    }
   ],
   "source": [
    "dataset = rg.Dataset(\n",
    "    name=\"argilla_sdk_docs_queries\",\n",
    "    settings=settings,\n",
    "    client=client,\n",
    ")\n",
    "dataset.create()"
   ]
  },
  {
   "cell_type": "code",
   "execution_count": 9,
   "id": "f8bcfc54-a06c-4f9a-aa19-eeca1c26b606",
   "metadata": {},
   "outputs": [
    {
     "name": "stderr",
     "output_type": "stream",
     "text": [
      "Downloading readme: 100%|█████████████████████████████████████████████████████████████████████████████████████████████████████████████████████████████████████████████████████████████████████████████████████████████████████| 4.10k/4.10k [00:00<00:00, 15.2MB/s]\n",
      "Downloading data: 100%|██████████████████████████████████████████████████████████████████████████████████████████████████████████████████████████████████████████████████████████████████████████████████████████████████████████| 137k/137k [00:00<00:00, 253kB/s]\n",
      "Generating train split: 100%|█████████████████████████████████████████████████████████████████████████████████████████████████████████████████████████████████████████████████████████████████████████████████████████| 980/980 [00:00<00:00, 134984.66 examples/s]\n"
     ]
    }
   ],
   "source": [
    "data = load_dataset(\"plaguss/argilla_sdk_docs_queries\", split=\"train\")\n",
    "\n",
    "# Will select just the columns we are going to explore, and transform to list of dicts\n",
    "data = data.select_columns([\"anchor\", \"positive\", \"negative\"]).to_list()"
   ]
  },
  {
   "cell_type": "code",
   "execution_count": 10,
   "id": "79cc736e-3d8d-4634-bee4-4a287c4bb6ca",
   "metadata": {},
   "outputs": [
    {
     "name": "stderr",
     "output_type": "stream",
     "text": [
      "Adding and updating records: 100%|████████████████████████████████████████████████████████████████████████████████████████████████████████████████████████████████████████████████████████████████████████████████████████████████| 4/4 [00:03<00:00,  1.05batch/s]\n"
     ]
    },
    {
     "data": {
      "text/plain": [
       "DatasetRecords(Dataset(id=UUID('46c5e638-fb2b-4765-8a1e-901b09d8a0b5') inserted_at=datetime.datetime(2024, 6, 28, 7, 23, 7, 262351) updated_at=datetime.datetime(2024, 6, 28, 7, 23, 10, 950167) name='argilla_sdk_docs_queries' status='ready' guidelines='Review the chunks of docs.' allow_extra_metadata=False workspace_id=UUID('91bc79aa-28e4-4ce7-a20f-af44afb0c7a1') last_activity_at=datetime.datetime(2024, 6, 28, 7, 23, 10, 950167) url=None))"
      ]
     },
     "execution_count": 10,
     "metadata": {},
     "output_type": "execute_result"
    }
   ],
   "source": [
    "dataset.records.log(records=data)"
   ]
  },
  {
   "cell_type": "markdown",
   "id": "57f782b6-b449-4187-996f-2b348e212ef5",
   "metadata": {},
   "source": [
    "## Dataset with chatbot interactions\n",
    "\n",
    "This dataset will track the interactions with the chatbot, so we can review the responses and improve it."
   ]
  },
  {
   "cell_type": "code",
   "execution_count": 49,
   "id": "e0869927-79f1-4b1b-9b7e-ff43be9d4f89",
   "metadata": {},
   "outputs": [],
   "source": [
    "settings_chatbot_interactions = rg.Settings(\n",
    "    guidelines=\"Review the user interactions with the chatbot.\",\n",
    "    fields=[\n",
    "        rg.TextField(\n",
    "            name=\"instruction\",\n",
    "            title=\"User instruction\",\n",
    "            use_markdown=True,\n",
    "        ),\n",
    "        rg.TextField(\n",
    "            name=\"response\",\n",
    "            title=\"Bot response\",\n",
    "            use_markdown=True,\n",
    "        ),\n",
    "    ],\n",
    "    questions=[\n",
    "        rg.LabelQuestion(\n",
    "            name=\"is_response_correct\",\n",
    "            title=\"Is the response correct?\",\n",
    "            labels=[\"yes\", \"no\"],\n",
    "        ),\n",
    "        rg.LabelQuestion(\n",
    "            name=\"out_of_guardrails\",\n",
    "            title=\"Did the model answered something out of the ordinary?\",\n",
    "            description=\"If the model answered something unrelated to Argilla SDK\",\n",
    "            labels=[\"yes\", \"no\"],\n",
    "        ),\n",
    "        rg.TextQuestion(\n",
    "            name=\"feedback\",\n",
    "            title=\"Let any feedback here\",\n",
    "            description=\"This field should be used to report any feedback that can be useful\",\n",
    "            required=False\n",
    "        ),\n",
    "    ],\n",
    "    metadata=[\n",
    "        rg.TermsMetadataProperty(\n",
    "            name=\"conv_id\",\n",
    "            title=\"Conversation ID\",\n",
    "        ),\n",
    "        rg.IntegerMetadataProperty(\n",
    "            name=\"turn\",\n",
    "            min=0,\n",
    "            max=100,\n",
    "            title=\"Conversation Turn\",\n",
    "        )\n",
    "    ]\n",
    ")"
   ]
  },
  {
   "cell_type": "code",
   "execution_count": 50,
   "id": "760fb23f-0e08-410d-b67f-afa79de98c4b",
   "metadata": {},
   "outputs": [
    {
     "data": {
      "text/plain": [
       "Dataset(id=UUID('102022cc-1197-4652-bdf8-77db56ecbe74') inserted_at=datetime.datetime(2024, 6, 28, 10, 44, 25, 739838) updated_at=datetime.datetime(2024, 6, 28, 10, 44, 31, 101443) name='chatbot_interactions' status='ready' guidelines='Review the user interactions with the chatbot.' allow_extra_metadata=False workspace_id=UUID('91bc79aa-28e4-4ce7-a20f-af44afb0c7a1') last_activity_at=datetime.datetime(2024, 6, 28, 10, 44, 31, 101443) url=None)"
      ]
     },
     "execution_count": 50,
     "metadata": {},
     "output_type": "execute_result"
    }
   ],
   "source": [
    "dataset_chatbot = rg.Dataset(\n",
    "    name=\"chatbot_interactions\",\n",
    "    settings=settings_chatbot_interactions,\n",
    "    client=client,\n",
    ")\n",
    "dataset_chatbot.create()"
   ]
  },
  {
   "cell_type": "markdown",
   "id": "1edadeb0-f247-4c55-b413-6c709c4035ec",
   "metadata": {},
   "source": [
    "Helper function to render the chat history as html:"
   ]
  },
  {
   "cell_type": "code",
   "execution_count": 45,
   "id": "0fadf133-8d06-4276-95be-fa41c59eb713",
   "metadata": {},
   "outputs": [
    {
     "name": "stderr",
     "output_type": "stream",
     "text": [
      "/var/folders/q6/mm81p31j6y3f2ndyvv11_3vh0000gn/T/ipykernel_36189/3677894038.py:22: DeprecationWarning: Importing display from IPython.core.display is deprecated since IPython 7.14, please import from IPython display\n",
      "  from IPython.core.display import display, HTML\n"
     ]
    },
    {
     "data": {
      "text/html": [
       "<div style=\"display: flex; justify-content: right; margin: 10px;\"><div style=\"background-color: #c2e3f7; padding: 10px; border-radius: 10px; max-width: 70%; word-wrap: break-word;\">user first query</div></div><div style=\"display: flex; justify-content: left; margin: 10px;\"><div style=\"background-color: #f5f5f5; padding: 10px; border-radius: 10px; max-width: 70%; word-wrap: break-word;\">bot response</div></div><div style=\"display: flex; justify-content: right; margin: 10px;\"><div style=\"background-color: #c2e3f7; padding: 10px; border-radius: 10px; max-width: 70%; word-wrap: break-word;\">second_query</div></div><div style=\"display: flex; justify-content: left; margin: 10px;\"><div style=\"background-color: #f5f5f5; padding: 10px; border-radius: 10px; max-width: 70%; word-wrap: break-word;\">new response</div></div>"
      ],
      "text/plain": [
       "<IPython.core.display.HTML object>"
      ]
     },
     "metadata": {},
     "output_type": "display_data"
    }
   ],
   "source": [
    "def create_chat_html(history: list[tuple[str, str]]) -> str:\n",
    "    \"\"\"Helper function to create a conversation in HTML in argilla.\n",
    "\n",
    "    Args:\n",
    "        history: History of messages with the chatbot.\n",
    "\n",
    "    Returns:\n",
    "        HTML formatted conversation.\n",
    "    \"\"\"\n",
    "    chat_html = \"\"\n",
    "    alignments = [\"right\", \"left\"]\n",
    "    colors = [\"#c2e3f7\", \"#f5f5f5\"]\n",
    "\n",
    "    for turn in history:\n",
    "        # Create the HTML message div with inline styles\n",
    "        message_html = \"\"\n",
    "\n",
    "        # To include message still not answered\n",
    "        (user, assistant) = turn\n",
    "        if assistant is None:\n",
    "            turn = (user, )\n",
    "\n",
    "        for i, content in enumerate(turn):\n",
    "            message_html += f'<div style=\"display: flex; justify-content: {alignments[i]}; margin: 10px;\">'\n",
    "            message_html += f'<div style=\"background-color: {colors[i]}; padding: 10px; border-radius: 10px; max-width: 70%; word-wrap: break-word;\">{content}</div>'\n",
    "            message_html += \"</div>\"\n",
    "\n",
    "        # Add the message to the chat HTML\n",
    "        chat_html += message_html\n",
    "\n",
    "    return chat_html\n",
    "\n",
    "html = create_chat_html([(\"user first query\", \"bot response\"), (\"second_query\", \"new response\")])\n",
    "\n",
    "from IPython.core.display import display, HTML\n",
    "display(HTML(html))\n"
   ]
  },
  {
   "cell_type": "code",
   "execution_count": null,
   "id": "cc807a38-8eeb-4c32-b857-8c9a5fc6a255",
   "metadata": {},
   "outputs": [],
   "source": []
  }
 ],
 "metadata": {
  "kernelspec": {
   "display_name": "Python 3 (ipykernel)",
   "language": "python",
   "name": "python3"
  },
  "language_info": {
   "codemirror_mode": {
    "name": "ipython",
    "version": 3
   },
   "file_extension": ".py",
   "mimetype": "text/x-python",
   "name": "python",
   "nbconvert_exporter": "python",
   "pygments_lexer": "ipython3",
   "version": "3.11.8"
  }
 },
 "nbformat": 4,
 "nbformat_minor": 5
}
