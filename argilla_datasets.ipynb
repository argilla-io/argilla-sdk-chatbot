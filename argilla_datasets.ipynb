{
 "cells": [
  {
   "cell_type": "markdown",
   "id": "0d6e1aaf-5de4-4ec8-a73f-402fa3c0a4a3",
   "metadata": {},
   "source": [
    "# Explore the generated datasets in Argilla"
   ]
  },
  {
   "cell_type": "markdown",
   "id": "dadeac41-f713-4c8f-a0d6-e2d750678469",
   "metadata": {},
   "source": [
    "## Create an argilla instance and uploading the datasets\n",
    "\n",
    "The following cells will push the previously created datasets to explore them in argilla. All the steps can be followed in the\n",
    "[argilla-quickstart](https://argilla-io.github.io/argilla/dev/getting_started/quickstart/) section of the documentation."
   ]
  },
  {
   "cell_type": "code",
   "execution_count": 21,
   "id": "fd1e714f-6a75-4422-8b03-f1c2b80e5832",
   "metadata": {},
   "outputs": [],
   "source": [
    "## Install argilla if you haven't yet\n",
    "#!pip install argilla --pre"
   ]
  },
  {
   "cell_type": "markdown",
   "id": "761f2d92-f9a4-4b96-9ec9-125defcc1b2c",
   "metadata": {},
   "source": [
    "Instantiate the client pointing to the created space."
   ]
  },
  {
   "cell_type": "code",
   "execution_count": 2,
   "id": "f64e2f50-3ea8-4915-be38-b4b8b034d348",
   "metadata": {},
   "outputs": [
    {
     "name": "stderr",
     "output_type": "stream",
     "text": [
      "/Users/agus/github_repos/argilla-io/argilla-sdk-chatbot/.venv/lib/python3.11/site-packages/tqdm/auto.py:21: TqdmWarning: IProgress not found. Please update jupyter and ipywidgets. See https://ipywidgets.readthedocs.io/en/stable/user_install.html\n",
      "  from .autonotebook import tqdm as notebook_tqdm\n"
     ]
    }
   ],
   "source": [
    "import argilla as rg\n",
    "\n",
    "client = rg.Argilla(\n",
    "    api_url=\"https://plaguss-argilla-sdk-chatbot.hf.space\",\n",
    "    api_key=\"owner.apikey\"\n",
    ")"
   ]
  },
  {
   "cell_type": "markdown",
   "id": "683a1de3-957b-449c-8427-2e3c58999c46",
   "metadata": {},
   "source": [
    "Download the first dataset from the Hugging Face Hub and select the relevant columns we want to explore"
   ]
  },
  {
   "cell_type": "code",
   "execution_count": 9,
   "id": "8addec00-16e6-46ab-b056-d394532a09c6",
   "metadata": {},
   "outputs": [],
   "source": [
    "from datasets import load_dataset\n",
    "\n",
    "data = load_dataset(\"plaguss/argilla_sdk_docs_raw_unstructured\", split=\"train\")"
   ]
  },
  {
   "cell_type": "code",
   "execution_count": 11,
   "id": "f7fde48b-8dd9-494c-b6d5-3037d2ec4647",
   "metadata": {},
   "outputs": [],
   "source": [
    "# Will select just the columns we are going to explore, and transform to list of dicts\n",
    "data = data.select_columns([\"filename\", \"chunks\"]).to_list()"
   ]
  },
  {
   "cell_type": "markdown",
   "id": "f0e2123c-b9d2-4453-88c7-2e6d3e090e2b",
   "metadata": {},
   "source": [
    "## Dataset with raw chunks of documentation\n",
    "\n",
    "Let's upload the raw chunks to argilla to look at the raw data we generated using the `docs_dataset.py` script.\n",
    "\n",
    "- Dataset in Hugging Face Hub: [plaguss/argilla_sdk_docs_raw_unstructured](https://huggingface.co/datasets/plaguss/argilla_sdk_docs_raw_unstructured)"
   ]
  },
  {
   "cell_type": "markdown",
   "id": "004d1eca-edbd-4104-b1e5-dca3f888f277",
   "metadata": {},
   "source": [
    "Create the settings of the dataset and push it to Argilla to track it:"
   ]
  },
  {
   "cell_type": "code",
   "execution_count": 7,
   "id": "12c9597c-6c01-4a1e-91bf-f618b3c22cfe",
   "metadata": {},
   "outputs": [],
   "source": [
    "settings = rg.Settings(\n",
    "    guidelines=\"Review the chunks of docs.\",\n",
    "    fields=[\n",
    "        rg.TextField(\n",
    "            name=\"filename\",\n",
    "            title=\"Filename where this chunk was extracted from\",\n",
    "            use_markdown=False,\n",
    "        ),\n",
    "        rg.TextField(\n",
    "            name=\"chunk\",\n",
    "            title=\"Chunk from the documentation\",\n",
    "            use_markdown=False,\n",
    "        ),\n",
    "    ],\n",
    "    questions=[\n",
    "        rg.LabelQuestion(\n",
    "            name=\"good_chunk\",\n",
    "            title=\"Does this chunk contain relevant information?\",\n",
    "            labels=[\"yes\", \"no\"],\n",
    "        )\n",
    "    ],\n",
    ")"
   ]
  },
  {
   "cell_type": "code",
   "execution_count": 8,
   "id": "e51b2eb5-94f3-42f8-941d-7a4164094ebe",
   "metadata": {},
   "outputs": [
    {
     "name": "stderr",
     "output_type": "stream",
     "text": [
      "/Users/agus/github_repos/argilla-io/argilla-sdk-chatbot/.venv/lib/python3.11/site-packages/argilla/datasets/_resource.py:194: UserWarning: Workspace not provided. Using default workspace: admin id: 4fcd03e1-223d-4ad0-ac21-437193f75ea6\n",
      "  warnings.warn(f\"Workspace not provided. Using default workspace: {ws.name} id: {ws.id}\")\n"
     ]
    },
    {
     "data": {
      "text/plain": [
       "Dataset(id=UUID('b5952697-daac-457b-aab6-7d2c0ff2cb6d') inserted_at=datetime.datetime(2024, 6, 24, 10, 29, 11, 467309) updated_at=datetime.datetime(2024, 6, 24, 10, 29, 14, 94152) name='argilla_sdk_docs_raw_unstructured' status='ready' guidelines='Review the chunks of docs.' allow_extra_metadata=False workspace_id=UUID('4fcd03e1-223d-4ad0-ac21-437193f75ea6') last_activity_at=datetime.datetime(2024, 6, 24, 10, 29, 14, 94152) url=None)"
      ]
     },
     "execution_count": 8,
     "metadata": {},
     "output_type": "execute_result"
    }
   ],
   "source": [
    "dataset = rg.Dataset(\n",
    "    name=\"argilla_sdk_docs_raw_unstructured\",\n",
    "    settings=settings,\n",
    "    client=client,\n",
    ")\n",
    "dataset.create()"
   ]
  },
  {
   "cell_type": "markdown",
   "id": "e60e3ec0-13c8-48d7-91a5-6a125ad6b5f6",
   "metadata": {},
   "source": [
    "Add records to it:"
   ]
  },
  {
   "cell_type": "code",
   "execution_count": 14,
   "id": "ec1b5aa9-11a9-4743-9653-86a6fa4b5d4d",
   "metadata": {},
   "outputs": [
    {
     "data": {
      "text/html": [
       "<pre style=\"white-space:pre;overflow-x:auto;line-height:normal;font-family:Menlo,'DejaVu Sans Mono',consolas,'Courier New',monospace\">DatasetRecords: The provided batch size <span style=\"color: #008080; text-decoration-color: #008080; font-weight: bold\">256</span> was normalized. Using value <span style=\"color: #008080; text-decoration-color: #008080; font-weight: bold\">251</span>.\n",
       "</pre>\n"
      ],
      "text/plain": [
       "DatasetRecords: The provided batch size \u001b[1;36m256\u001b[0m was normalized. Using value \u001b[1;36m251\u001b[0m.\n"
      ]
     },
     "metadata": {},
     "output_type": "display_data"
    },
    {
     "name": "stderr",
     "output_type": "stream",
     "text": [
      "Adding and updating records: 100%|██████████████████████████████████████████████████████████████████████████████████████████████████████████████████████████████████████████████████████████████████████████████████████████████████| 1/1 [00:01<00:00,  1.37s/batch]\n"
     ]
    },
    {
     "data": {
      "text/plain": [
       "DatasetRecords(Dataset(id=UUID('b5952697-daac-457b-aab6-7d2c0ff2cb6d') inserted_at=datetime.datetime(2024, 6, 24, 10, 29, 11, 467309) updated_at=datetime.datetime(2024, 6, 24, 10, 29, 14, 94152) name='argilla_sdk_docs_raw_unstructured' status='ready' guidelines='Review the chunks of docs.' allow_extra_metadata=False workspace_id=UUID('4fcd03e1-223d-4ad0-ac21-437193f75ea6') last_activity_at=datetime.datetime(2024, 6, 24, 10, 29, 14, 94152) url=None))"
      ]
     },
     "execution_count": 14,
     "metadata": {},
     "output_type": "execute_result"
    }
   ],
   "source": [
    "dataset.records.log(records=data, mapping={\"filename\": \"filename\", \"chunks\": \"chunk\"})"
   ]
  },
  {
   "cell_type": "markdown",
   "id": "5df632a3-f936-480d-90e0-a23dfaeaef1b",
   "metadata": {},
   "source": [
    "## Dataset with generated queries\n",
    "\n",
    "The following dataset contains the synthetic queries generated with distilabel. We will repeat the previous steps with the dataset used to fine tune our embedding model.\n",
    "\n",
    "- Dataset in Hugging Face Hub: [plaguss/argilla_sdk_docs_queries](https://huggingface.co/datasets/plaguss/argilla_sdk_docs_queries)"
   ]
  },
  {
   "cell_type": "code",
   "execution_count": 15,
   "id": "7ae4c6b1-fb82-4273-a2dd-a6e19f48bc6d",
   "metadata": {},
   "outputs": [],
   "source": [
    "settings = rg.Settings(\n",
    "    guidelines=\"Review the chunks of docs.\",\n",
    "    fields=[\n",
    "        rg.TextField(\n",
    "            name=\"anchor\",\n",
    "            title=\"Anchor (Chunk from the documentation).\",\n",
    "            use_markdown=False,\n",
    "        ),\n",
    "        rg.TextField(\n",
    "            name=\"positive\",\n",
    "            title=\"Positive sentence that queries the anchor.\",\n",
    "            use_markdown=False,\n",
    "        ),\n",
    "        rg.TextField(\n",
    "            name=\"negative\",\n",
    "            title=\"Negative sentence that may use similar words but has content unrelated to the anchor.\",\n",
    "            use_markdown=False,\n",
    "        ),\n",
    "    ],\n",
    "    questions=[\n",
    "        rg.LabelQuestion(\n",
    "            name=\"is_positive_relevant\",\n",
    "            title=\"Is the positive query relevant?\",\n",
    "            labels=[\"yes\", \"no\"],\n",
    "        ),\n",
    "        rg.LabelQuestion(\n",
    "            name=\"is_negative_irrelevant\",\n",
    "            title=\"Is the negative query irrelevant?\",\n",
    "            labels=[\"yes\", \"no\"],\n",
    "        )\n",
    "    ],\n",
    ")"
   ]
  },
  {
   "cell_type": "code",
   "execution_count": 16,
   "id": "bb1e490f-035b-4f54-b02c-e2a1e064eee0",
   "metadata": {},
   "outputs": [
    {
     "data": {
      "text/plain": [
       "Dataset(id=UUID('5e1c6c80-9e37-4b28-aed3-d098622e11db') inserted_at=datetime.datetime(2024, 6, 24, 10, 56, 10, 105584) updated_at=datetime.datetime(2024, 6, 24, 10, 56, 13, 94443) name='argilla_sdk_docs_queries' status='ready' guidelines='Review the chunks of docs.' allow_extra_metadata=False workspace_id=UUID('4fcd03e1-223d-4ad0-ac21-437193f75ea6') last_activity_at=datetime.datetime(2024, 6, 24, 10, 56, 13, 94443) url=None)"
      ]
     },
     "execution_count": 16,
     "metadata": {},
     "output_type": "execute_result"
    }
   ],
   "source": [
    "dataset = rg.Dataset(\n",
    "    name=\"argilla_sdk_docs_queries\",\n",
    "    settings=settings,\n",
    "    client=client,\n",
    ")\n",
    "dataset.create()"
   ]
  },
  {
   "cell_type": "code",
   "execution_count": 17,
   "id": "f8bcfc54-a06c-4f9a-aa19-eeca1c26b606",
   "metadata": {},
   "outputs": [
    {
     "name": "stderr",
     "output_type": "stream",
     "text": [
      "Downloading readme: 100%|███████████████████████████████████████████████████████████████████████████████████████████████████████████████████████████████████████████████████████████████████████████████████████████████████████| 4.10k/4.10k [00:00<00:00, 8.03MB/s]\n",
      "Downloading data: 100%|████████████████████████████████████████████████████████████████████████████████████████████████████████████████████████████████████████████████████████████████████████████████████████████████████████████| 137k/137k [00:00<00:00, 247kB/s]\n",
      "Generating train split: 100%|████████████████████████████████████████████████████████████████████████████████████████████████████████████████████████████████████████████████████████████████████████████████████████████| 980/980 [00:00<00:00, 47295.11 examples/s]\n"
     ]
    }
   ],
   "source": [
    "data = load_dataset(\"plaguss/argilla_sdk_docs_queries\", split=\"train\")\n",
    "\n",
    "# Will select just the columns we are going to explore, and transform to list of dicts\n",
    "data = data.select_columns([\"anchor\", \"positive\", \"negative\"]).to_list()"
   ]
  },
  {
   "cell_type": "code",
   "execution_count": 19,
   "id": "79cc736e-3d8d-4634-bee4-4a287c4bb6ca",
   "metadata": {},
   "outputs": [
    {
     "name": "stderr",
     "output_type": "stream",
     "text": [
      "Adding and updating records: 100%|██████████████████████████████████████████████████████████████████████████████████████████████████████████████████████████████████████████████████████████████████████████████████████████████████| 4/4 [00:02<00:00,  1.47batch/s]\n"
     ]
    },
    {
     "data": {
      "text/plain": [
       "DatasetRecords(Dataset(id=UUID('5e1c6c80-9e37-4b28-aed3-d098622e11db') inserted_at=datetime.datetime(2024, 6, 24, 10, 56, 10, 105584) updated_at=datetime.datetime(2024, 6, 24, 10, 56, 13, 94443) name='argilla_sdk_docs_queries' status='ready' guidelines='Review the chunks of docs.' allow_extra_metadata=False workspace_id=UUID('4fcd03e1-223d-4ad0-ac21-437193f75ea6') last_activity_at=datetime.datetime(2024, 6, 24, 10, 56, 13, 94443) url=None))"
      ]
     },
     "execution_count": 19,
     "metadata": {},
     "output_type": "execute_result"
    }
   ],
   "source": [
    "dataset.records.log(records=data)"
   ]
  }
 ],
 "metadata": {
  "kernelspec": {
   "display_name": "Python 3 (ipykernel)",
   "language": "python",
   "name": "python3"
  },
  "language_info": {
   "codemirror_mode": {
    "name": "ipython",
    "version": 3
   },
   "file_extension": ".py",
   "mimetype": "text/x-python",
   "name": "python",
   "nbconvert_exporter": "python",
   "pygments_lexer": "ipython3",
   "version": "3.11.8"
  }
 },
 "nbformat": 4,
 "nbformat_minor": 5
}
